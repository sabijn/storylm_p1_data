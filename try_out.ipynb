{
 "cells": [
  {
   "cell_type": "code",
   "execution_count": null,
   "metadata": {},
   "outputs": [],
   "source": [
    "import pandas as pd\n",
    "from ollama import chat\n",
    "from ollama import ChatResponse\n",
    "import random"
   ]
  },
  {
   "cell_type": "code",
   "execution_count": null,
   "metadata": {},
   "outputs": [],
   "source": [
    "path_name = '/Users/sperdijk/Documents/PhD/Datasets/Pretraining/chisor_dataset_all/ChiSCor_CoNLL_paper/csv/ChiSCor_master_df_password/ChiSCor_master_df.csv'"
   ]
  },
  {
   "cell_type": "code",
   "execution_count": null,
   "metadata": {},
   "outputs": [],
   "source": [
    "df = pd.read_csv(path_name, index_col=0)\n",
    "raw_stories = df['story_raw_no_newlines']"
   ]
  },
  {
   "cell_type": "code",
   "execution_count": null,
   "metadata": {},
   "outputs": [],
   "source": []
  },
  {
   "cell_type": "code",
   "execution_count": null,
   "metadata": {},
   "outputs": [],
   "source": [
    "indices = [random.randint(0, len(raw_stories)) for _ in range(3)]\n",
    "\n",
    "prompt = f\"\"\"\n",
    "Genereer een verhaal dat gebruikt maakt van dezelfde soort grammatica en vocabulaire als de drie bijgevoegde verhalen. Gebruik ook dezelfde schrijfstijl. \n",
    "Het staat je vrij om zelf een onderwerp te kiezen.\n",
    "\n",
    "Verhaal 1: {raw_stories.iloc[indices[0]]}\n",
    "Verhaal 2: {raw_stories.iloc[indices[1]]}\n",
    "Verhaal 3: {raw_stories.iloc[indices[2]]}\n",
    "\"\"\"\n",
    "\n",
    "indices, prompt"
   ]
  },
  {
   "cell_type": "code",
   "execution_count": null,
   "metadata": {},
   "outputs": [],
   "source": [
    "response: ChatResponse = chat(model='llama3.2:1b', messages=[\n",
    "{\n",
    "\t'role': 'user',\n",
    "\t'content': f'{prompt}',\n",
    "},\n",
    "])\n",
    "\n",
    "print(response.message.content)"
   ]
  },
  {
   "cell_type": "code",
   "execution_count": null,
   "metadata": {},
   "outputs": [],
   "source": []
  }
 ],
 "metadata": {
  "kernelspec": {
   "display_name": "basic312",
   "language": "python",
   "name": "python3"
  },
  "language_info": {
   "codemirror_mode": {
    "name": "ipython",
    "version": 3
   },
   "file_extension": ".py",
   "mimetype": "text/x-python",
   "name": "python",
   "nbconvert_exporter": "python",
   "pygments_lexer": "ipython3",
   "version": "3.12.9"
  }
 },
 "nbformat": 4,
 "nbformat_minor": 2
}
