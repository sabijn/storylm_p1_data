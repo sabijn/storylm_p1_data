{
 "cells": [
  {
   "cell_type": "code",
   "execution_count": null,
   "metadata": {},
   "outputs": [],
   "source": [
    "import pandas as pd\n",
    "import numpy as np\n",
    "import matplotlib.pyplot as plt\n",
    "from nltk import ngrams, word_tokenize\n",
    "from collections import Counter\n",
    "from scipy.optimize import curve_fit\n",
    "from matplotlib.colors import ListedColormap, LinearSegmentedColormap\n",
    "import nltk\n",
    "import matplotlib.cm as cm\n",
    "nltk.download('punkt_tab')"
   ]
  },
  {
   "cell_type": "code",
   "execution_count": null,
   "metadata": {},
   "outputs": [],
   "source": [
    "path_name = '/Users/sperdijk/Documents/PhD/Datasets/Pretraining/chisor_dataset_all/ChiSCor_CoNLL_paper/csv/ChiSCor_master_df_password/ChiSCor_master_df.csv'"
   ]
  },
  {
   "cell_type": "code",
   "execution_count": null,
   "metadata": {},
   "outputs": [],
   "source": [
    "df = pd.read_csv(path_name, index_col=0)\n",
    "df"
   ]
  },
  {
   "cell_type": "code",
   "execution_count": null,
   "metadata": {},
   "outputs": [],
   "source": [
    "oldcmp = cm.get_cmap('RdYlBu', 512)\n",
    "\n",
    "line_color = oldcmp(0)\n",
    "newcmp = ListedColormap(oldcmp(np.linspace(0.23, 1., 256)))"
   ]
  },
  {
   "cell_type": "markdown",
   "metadata": {},
   "source": [
    "### Lemmatized"
   ]
  },
  {
   "cell_type": "code",
   "execution_count": null,
   "metadata": {},
   "outputs": [],
   "source": [
    "def zipf(x, a, c):\n",
    "    return c * x**(-a)\n",
    "\n",
    "def calculate_and_plot_zipf_theirs(data):\n",
    "    # Combine all text and tokenize\n",
    "\ttokens = []\n",
    "\tfor entry in data.dropna():\n",
    "\t\ttokens.extend(word_tokenize(entry.lower()))\n",
    "\n",
    "\t# Generate 4-grams\n",
    "\tfour_grams = list(ngrams(tokens, 4))\n",
    "\n",
    "\t# Count frequencies\n",
    "\tfreq_dist = Counter(four_grams)\n",
    "\n",
    "\t# Rank by frequency\n",
    "\tfreqs = np.array(sorted(freq_dist.values(), reverse=True))\n",
    "\tranks = np.arange(1, len(freqs) + 1)\n",
    "\n",
    "\tparam, param_cov = curve_fit(zipf, ranks, freqs)\n",
    "\tzipf_fit = zipf(ranks, *param)\n",
    "\n",
    "\t# Plot\n",
    "\tplt.figure(figsize=(8, 6))\n",
    "\tplt.loglog(ranks, freqs, 'o', label='4-gram frequencies')\n",
    "\tplt.loglog(ranks, zipf_fit, label=f'Zipf Fit, ∝ x^{param[0]:.2f}')\n",
    "\tplt.xlabel('Frequency Rank')\n",
    "\tplt.ylabel('Frequency')\n",
    "\tplt.title('4-gram Frequency Distribution with Zipf Fit')\n",
    "\tplt.legend()\n",
    "\tplt.grid(True, which=\"both\", ls=\"--\", linewidth=0.5)\n",
    "\tplt.tight_layout()\n",
    "\n",
    "def calculate_and_plot_zipf_mine(data, line_color='red', cmap='Blues'):\n",
    "\t# Combine all text and tokenize\n",
    "\ttokens = []\n",
    "\tfor entry in data:\n",
    "\t\ttokens.extend(word_tokenize(entry.lower()))\n",
    "\n",
    "\t# Generate 4-grams\n",
    "\tfour_grams = list(ngrams(tokens, 4))\n",
    "\n",
    "\t# Count frequencies\n",
    "\tfreq_dist = Counter(four_grams)\n",
    "\n",
    "\t# Rank by frequency\n",
    "\tfreqs = np.array(sorted(freq_dist.values(), reverse=True))\n",
    "\tranks = np.arange(1, len(freqs) + 1)\n",
    "\n",
    "\tparam, param_cov = curve_fit(zipf, ranks, freqs)\n",
    "\tzipf_fit = zipf(ranks, *param)\n",
    "\n",
    "\t# Hexbin plot\n",
    "\tplt.figure(figsize=(8, 6))\n",
    "\thb = plt.hexbin(np.log10(ranks), np.log10(freqs), gridsize=50, cmap=newcmp, mincnt=1)\n",
    "\tcb = plt.colorbar(hb)\n",
    "\tcb.set_label('Counts per hexbin')\n",
    "\n",
    "\t# Plot fitted Zipf line\n",
    "\tplt.plot(np.log10(ranks), np.log10(zipf_fit), color=line_color,\n",
    "\t\t\tlabel=f'Zipf Fit, ∝ {round(param[1], 2)} * x^-{param[0]:.2f}')\n",
    "\n",
    "\tplt.xlabel('log10(Frequency Rank)')\n",
    "\tplt.ylabel('log10(Frequency)')\n",
    "\tplt.title('4-gram Frequency Distribution with Zipf Fit')\n",
    "\tplt.legend()\n",
    "\tplt.grid(True, which=\"both\", ls=\"--\", linewidth=0.5)\n",
    "\tplt.tight_layout()"
   ]
  },
  {
   "cell_type": "code",
   "execution_count": null,
   "metadata": {},
   "outputs": [],
   "source": [
    "data = df['story_lemmatized']\n",
    "calculate_and_plot_zipf_theirs(data)\n"
   ]
  },
  {
   "cell_type": "code",
   "execution_count": null,
   "metadata": {},
   "outputs": [],
   "source": [
    "calculate_and_plot_zipf_mine(data, line_color=line_color, cmap=newcmp)"
   ]
  },
  {
   "cell_type": "markdown",
   "metadata": {},
   "source": [
    "## Not lemmatized"
   ]
  },
  {
   "cell_type": "code",
   "execution_count": null,
   "metadata": {},
   "outputs": [],
   "source": [
    "data_raw = df['story_raw_no_newlines']\n",
    "calculate_and_plot_zipf_mine(data_raw, line_color=line_color, cmap=newcmp)"
   ]
  },
  {
   "cell_type": "markdown",
   "metadata": {},
   "source": [
    "### SimpleStories"
   ]
  },
  {
   "cell_type": "code",
   "execution_count": null,
   "metadata": {},
   "outputs": [],
   "source": [
    "from datasets import load_dataset"
   ]
  },
  {
   "cell_type": "code",
   "execution_count": null,
   "metadata": {},
   "outputs": [],
   "source": [
    "simplystories = load_dataset('SimpleStories/SimpleStories')"
   ]
  },
  {
   "cell_type": "code",
   "execution_count": null,
   "metadata": {},
   "outputs": [],
   "source": [
    "subset = simplystories['train'].train_test_split(train_size=0.1, seed=42)['train']\n"
   ]
  },
  {
   "cell_type": "code",
   "execution_count": null,
   "metadata": {},
   "outputs": [],
   "source": [
    "calculate_and_plot_zipf_mine(subset['story'], line_color=line_color, cmap=newcmp)"
   ]
  },
  {
   "cell_type": "code",
   "execution_count": null,
   "metadata": {},
   "outputs": [],
   "source": [
    "def calculate_and_plot_zipf_greedy(data, line_color='red', cmap='Blues'):\n",
    "    # Tokenize all text\n",
    "    tokens = []\n",
    "    for entry in data:\n",
    "        tokens.extend(word_tokenize(entry.lower()))\n",
    "\n",
    "    # Generate 4-grams\n",
    "    n = 4\n",
    "    all_ngrams = list(ngrams(tokens, n))\n",
    "    freq_dist = Counter(all_ngrams)\n",
    "\n",
    "    # Sort by frequency descending\n",
    "    sorted_ngrams = sorted(freq_dist.items(), key=lambda x: x[1], reverse=True)\n",
    "\n",
    "    # Greedy filtering: only keep n-grams with ≤(n−2) word overlap\n",
    "    selected = []\n",
    "    selected_set = []\n",
    "\n",
    "    for ngram, _ in sorted_ngrams:\n",
    "        overlaps = False\n",
    "        for s in selected:\n",
    "            # Count how many words overlap (position doesn't matter)\n",
    "            if len(set(ngram) & set(s)) >= n - 1:\n",
    "                overlaps = True\n",
    "                break\n",
    "        if not overlaps:\n",
    "            selected.append(ngram)\n",
    "            selected_set.append(freq_dist[ngram])\n",
    "\n",
    "    # Prepare ranks and frequencies\n",
    "    freqs = np.array(sorted(selected_set, reverse=True))\n",
    "    ranks = np.arange(1, len(freqs) + 1)\n",
    "\n",
    "    param, _ = curve_fit(zipf, ranks, freqs)\n",
    "    zipf_fit = zipf(ranks, *param)\n",
    "\n",
    "    # Plot\n",
    "    plt.figure(figsize=(8, 6))\n",
    "    hb = plt.hexbin(np.log10(ranks), np.log10(freqs), gridsize=50, cmap=cmap, mincnt=1)\n",
    "    cb = plt.colorbar(hb)\n",
    "    cb.set_label('Counts per hexbin')\n",
    "\n",
    "    plt.plot(np.log10(ranks), np.log10(zipf_fit), color=line_color,\n",
    "             label=f'Zipf Fit, ∝ {round(param[1], 2)} * x^-{param[0]:.2f}')\n",
    "\n",
    "    plt.xlabel('log10(Frequency Rank)')\n",
    "    plt.ylabel('log10(Frequency)')\n",
    "    plt.title('Filtered 4-gram Frequency Distribution with Zipf Fit')\n",
    "    plt.legend()\n",
    "    plt.grid(True, which=\"both\", ls=\"--\", linewidth=0.5)\n",
    "    plt.tight_layout()"
   ]
  },
  {
   "cell_type": "code",
   "execution_count": null,
   "metadata": {},
   "outputs": [],
   "source": [
    "calculate_and_plot_zipf_greedy(data_raw, line_color=line_color, cmap=newcmp)"
   ]
  },
  {
   "cell_type": "code",
   "execution_count": null,
   "metadata": {},
   "outputs": [],
   "source": [
    "calculate_and_plot_zipf_greedy(subset['story'], line_color=line_color, cmap=newcmp)"
   ]
  },
  {
   "cell_type": "code",
   "execution_count": null,
   "metadata": {},
   "outputs": [],
   "source": []
  }
 ],
 "metadata": {
  "kernelspec": {
   "display_name": "basic312",
   "language": "python",
   "name": "python3"
  },
  "language_info": {
   "codemirror_mode": {
    "name": "ipython",
    "version": 3
   },
   "file_extension": ".py",
   "mimetype": "text/x-python",
   "name": "python",
   "nbconvert_exporter": "python",
   "pygments_lexer": "ipython3",
   "version": "3.12.9"
  }
 },
 "nbformat": 4,
 "nbformat_minor": 2
}
